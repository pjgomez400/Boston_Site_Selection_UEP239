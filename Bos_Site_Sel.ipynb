{
 "cells": [
  {
   "cell_type": "code",
   "execution_count": 6,
   "id": "outer-edward",
   "metadata": {},
   "outputs": [],
   "source": [
    "import pandas as pd\n",
    "import geopandas as gpd\n",
    "import os\n",
    "import numpy as np\n",
    "import matplotlib.pyplot as plt\n",
    "import functools as func\n",
    "import contextily as ctx\n",
    "import rasterio\n",
    "\n",
    "from matplotlib.tri import Triangulation, LinearTriInterpolator\n",
    "from rasterstats import point_query\n",
    "from shapely.geometry import shape\n",
    "from rasterio.plot import show"
   ]
  },
  {
   "cell_type": "code",
   "execution_count": 7,
   "id": "devoted-speech",
   "metadata": {},
   "outputs": [
    {
     "ename": "DriverError",
     "evalue": "'/Users/pjgomez/Fletcher/Boston_Site_Selection_UEP239/Data_Directory/vector/Census/tl_2010_25_zcta510/tl_2010_25_zcta510.shp' not recognized as a supported file format.",
     "output_type": "error",
     "traceback": [
      "\u001b[0;31m---------------------------------------------------------------------------\u001b[0m",
      "\u001b[0;31mCPLE_OpenFailedError\u001b[0m                      Traceback (most recent call last)",
      "\u001b[0;32mfiona/_shim.pyx\u001b[0m in \u001b[0;36mfiona._shim.gdal_open_vector\u001b[0;34m()\u001b[0m\n",
      "\u001b[0;32mfiona/_err.pyx\u001b[0m in \u001b[0;36mfiona._err.exc_wrap_pointer\u001b[0;34m()\u001b[0m\n",
      "\u001b[0;31mCPLE_OpenFailedError\u001b[0m: '/Users/pjgomez/Fletcher/Boston_Site_Selection_UEP239/Data_Directory/vector/Census/tl_2010_25_zcta510/tl_2010_25_zcta510.shp' not recognized as a supported file format.",
      "\nDuring handling of the above exception, another exception occurred:\n",
      "\u001b[0;31mDriverError\u001b[0m                               Traceback (most recent call last)",
      "\u001b[0;32m<ipython-input-7-77ddeb74d7f2>\u001b[0m in \u001b[0;36m<module>\u001b[0;34m\u001b[0m\n\u001b[1;32m      1\u001b[0m \u001b[0;31m#read in spatial data, project to NAD83/Massachusetts Mainland\u001b[0m\u001b[0;34m\u001b[0m\u001b[0;34m\u001b[0m\u001b[0;34m\u001b[0m\u001b[0m\n\u001b[0;32m----> 2\u001b[0;31m \u001b[0mzcta\u001b[0m \u001b[0;34m=\u001b[0m \u001b[0mgpd\u001b[0m\u001b[0;34m.\u001b[0m\u001b[0mread_file\u001b[0m\u001b[0;34m(\u001b[0m\u001b[0mstr\u001b[0m\u001b[0;34m(\u001b[0m\u001b[0mos\u001b[0m\u001b[0;34m.\u001b[0m\u001b[0mgetcwd\u001b[0m\u001b[0;34m(\u001b[0m\u001b[0;34m)\u001b[0m\u001b[0;34m)\u001b[0m \u001b[0;34m+\u001b[0m \u001b[0;34mr'/Data_Directory/vector/Census/tl_2010_25_zcta510/tl_2010_25_zcta510.shp'\u001b[0m\u001b[0;34m)\u001b[0m\u001b[0;34m.\u001b[0m\u001b[0mto_crs\u001b[0m\u001b[0;34m(\u001b[0m\u001b[0;34m'epsg:26986'\u001b[0m\u001b[0;34m)\u001b[0m\u001b[0;34m\u001b[0m\u001b[0;34m\u001b[0m\u001b[0m\n\u001b[0m\u001b[1;32m      3\u001b[0m \u001b[0mcolleges\u001b[0m\u001b[0;34m=\u001b[0m \u001b[0mgpd\u001b[0m\u001b[0;34m.\u001b[0m\u001b[0mread_file\u001b[0m\u001b[0;34m(\u001b[0m\u001b[0mstr\u001b[0m\u001b[0;34m(\u001b[0m\u001b[0mos\u001b[0m\u001b[0;34m.\u001b[0m\u001b[0mgetcwd\u001b[0m\u001b[0;34m(\u001b[0m\u001b[0;34m)\u001b[0m\u001b[0;34m)\u001b[0m \u001b[0;34m+\u001b[0m \u001b[0;34mr'/Data_Directory/vector/MassGIS/COLLEGES_PT/COLLEGES_PT.shp'\u001b[0m\u001b[0;34m)\u001b[0m\u001b[0;34m.\u001b[0m\u001b[0mto_crs\u001b[0m\u001b[0;34m(\u001b[0m\u001b[0;34m'epsg:26986'\u001b[0m\u001b[0;34m)\u001b[0m\u001b[0;34m\u001b[0m\u001b[0;34m\u001b[0m\u001b[0m\n\u001b[1;32m      4\u001b[0m \u001b[0mMPO_bound\u001b[0m \u001b[0;34m=\u001b[0m \u001b[0mgpd\u001b[0m\u001b[0;34m.\u001b[0m\u001b[0mread_file\u001b[0m\u001b[0;34m(\u001b[0m\u001b[0mstr\u001b[0m\u001b[0;34m(\u001b[0m\u001b[0mos\u001b[0m\u001b[0;34m.\u001b[0m\u001b[0mgetcwd\u001b[0m\u001b[0;34m(\u001b[0m\u001b[0;34m)\u001b[0m\u001b[0;34m)\u001b[0m \u001b[0;34m+\u001b[0m \u001b[0;34mr'/Data_Directory/vector/MassDOT/MPO_Boundaries/MPO_Boundaries.shp'\u001b[0m\u001b[0;34m)\u001b[0m\u001b[0;34m.\u001b[0m\u001b[0mto_crs\u001b[0m\u001b[0;34m(\u001b[0m\u001b[0;34m'epsg:26986'\u001b[0m\u001b[0;34m)\u001b[0m\u001b[0;34m\u001b[0m\u001b[0;34m\u001b[0m\u001b[0m\n",
      "\u001b[0;32m~/miniconda3/lib/python3.8/site-packages/geopandas/io/file.py\u001b[0m in \u001b[0;36m_read_file\u001b[0;34m(filename, bbox, mask, rows, **kwargs)\u001b[0m\n\u001b[1;32m    158\u001b[0m \u001b[0;34m\u001b[0m\u001b[0m\n\u001b[1;32m    159\u001b[0m     \u001b[0;32mwith\u001b[0m \u001b[0mfiona_env\u001b[0m\u001b[0;34m(\u001b[0m\u001b[0;34m)\u001b[0m\u001b[0;34m:\u001b[0m\u001b[0;34m\u001b[0m\u001b[0;34m\u001b[0m\u001b[0m\n\u001b[0;32m--> 160\u001b[0;31m         \u001b[0;32mwith\u001b[0m \u001b[0mreader\u001b[0m\u001b[0;34m(\u001b[0m\u001b[0mpath_or_bytes\u001b[0m\u001b[0;34m,\u001b[0m \u001b[0;34m**\u001b[0m\u001b[0mkwargs\u001b[0m\u001b[0;34m)\u001b[0m \u001b[0;32mas\u001b[0m \u001b[0mfeatures\u001b[0m\u001b[0;34m:\u001b[0m\u001b[0;34m\u001b[0m\u001b[0;34m\u001b[0m\u001b[0m\n\u001b[0m\u001b[1;32m    161\u001b[0m \u001b[0;34m\u001b[0m\u001b[0m\n\u001b[1;32m    162\u001b[0m             \u001b[0;31m# In a future Fiona release the crs attribute of features will\u001b[0m\u001b[0;34m\u001b[0m\u001b[0;34m\u001b[0m\u001b[0;34m\u001b[0m\u001b[0m\n",
      "\u001b[0;32m~/miniconda3/lib/python3.8/site-packages/fiona/env.py\u001b[0m in \u001b[0;36mwrapper\u001b[0;34m(*args, **kwargs)\u001b[0m\n\u001b[1;32m    398\u001b[0m     \u001b[0;32mdef\u001b[0m \u001b[0mwrapper\u001b[0m\u001b[0;34m(\u001b[0m\u001b[0;34m*\u001b[0m\u001b[0margs\u001b[0m\u001b[0;34m,\u001b[0m \u001b[0;34m**\u001b[0m\u001b[0mkwargs\u001b[0m\u001b[0;34m)\u001b[0m\u001b[0;34m:\u001b[0m\u001b[0;34m\u001b[0m\u001b[0;34m\u001b[0m\u001b[0m\n\u001b[1;32m    399\u001b[0m         \u001b[0;32mif\u001b[0m \u001b[0mlocal\u001b[0m\u001b[0;34m.\u001b[0m\u001b[0m_env\u001b[0m\u001b[0;34m:\u001b[0m\u001b[0;34m\u001b[0m\u001b[0;34m\u001b[0m\u001b[0m\n\u001b[0;32m--> 400\u001b[0;31m             \u001b[0;32mreturn\u001b[0m \u001b[0mf\u001b[0m\u001b[0;34m(\u001b[0m\u001b[0;34m*\u001b[0m\u001b[0margs\u001b[0m\u001b[0;34m,\u001b[0m \u001b[0;34m**\u001b[0m\u001b[0mkwargs\u001b[0m\u001b[0;34m)\u001b[0m\u001b[0;34m\u001b[0m\u001b[0;34m\u001b[0m\u001b[0m\n\u001b[0m\u001b[1;32m    401\u001b[0m         \u001b[0;32melse\u001b[0m\u001b[0;34m:\u001b[0m\u001b[0;34m\u001b[0m\u001b[0;34m\u001b[0m\u001b[0m\n\u001b[1;32m    402\u001b[0m             \u001b[0;32mif\u001b[0m \u001b[0misinstance\u001b[0m\u001b[0;34m(\u001b[0m\u001b[0margs\u001b[0m\u001b[0;34m[\u001b[0m\u001b[0;36m0\u001b[0m\u001b[0;34m]\u001b[0m\u001b[0;34m,\u001b[0m \u001b[0mstr\u001b[0m\u001b[0;34m)\u001b[0m\u001b[0;34m:\u001b[0m\u001b[0;34m\u001b[0m\u001b[0;34m\u001b[0m\u001b[0m\n",
      "\u001b[0;32m~/miniconda3/lib/python3.8/site-packages/fiona/__init__.py\u001b[0m in \u001b[0;36mopen\u001b[0;34m(fp, mode, driver, schema, crs, encoding, layer, vfs, enabled_drivers, crs_wkt, **kwargs)\u001b[0m\n\u001b[1;32m    254\u001b[0m \u001b[0;34m\u001b[0m\u001b[0m\n\u001b[1;32m    255\u001b[0m         \u001b[0;32mif\u001b[0m \u001b[0mmode\u001b[0m \u001b[0;32min\u001b[0m \u001b[0;34m(\u001b[0m\u001b[0;34m'a'\u001b[0m\u001b[0;34m,\u001b[0m \u001b[0;34m'r'\u001b[0m\u001b[0;34m)\u001b[0m\u001b[0;34m:\u001b[0m\u001b[0;34m\u001b[0m\u001b[0;34m\u001b[0m\u001b[0m\n\u001b[0;32m--> 256\u001b[0;31m             c = Collection(path, mode, driver=driver, encoding=encoding,\n\u001b[0m\u001b[1;32m    257\u001b[0m                            layer=layer, enabled_drivers=enabled_drivers, **kwargs)\n\u001b[1;32m    258\u001b[0m         \u001b[0;32melif\u001b[0m \u001b[0mmode\u001b[0m \u001b[0;34m==\u001b[0m \u001b[0;34m'w'\u001b[0m\u001b[0;34m:\u001b[0m\u001b[0;34m\u001b[0m\u001b[0;34m\u001b[0m\u001b[0m\n",
      "\u001b[0;32m~/miniconda3/lib/python3.8/site-packages/fiona/collection.py\u001b[0m in \u001b[0;36m__init__\u001b[0;34m(self, path, mode, driver, schema, crs, encoding, layer, vsi, archive, enabled_drivers, crs_wkt, ignore_fields, ignore_geometry, **kwargs)\u001b[0m\n\u001b[1;32m    160\u001b[0m             \u001b[0;32mif\u001b[0m \u001b[0mself\u001b[0m\u001b[0;34m.\u001b[0m\u001b[0mmode\u001b[0m \u001b[0;34m==\u001b[0m \u001b[0;34m'r'\u001b[0m\u001b[0;34m:\u001b[0m\u001b[0;34m\u001b[0m\u001b[0;34m\u001b[0m\u001b[0m\n\u001b[1;32m    161\u001b[0m                 \u001b[0mself\u001b[0m\u001b[0;34m.\u001b[0m\u001b[0msession\u001b[0m \u001b[0;34m=\u001b[0m \u001b[0mSession\u001b[0m\u001b[0;34m(\u001b[0m\u001b[0;34m)\u001b[0m\u001b[0;34m\u001b[0m\u001b[0;34m\u001b[0m\u001b[0m\n\u001b[0;32m--> 162\u001b[0;31m                 \u001b[0mself\u001b[0m\u001b[0;34m.\u001b[0m\u001b[0msession\u001b[0m\u001b[0;34m.\u001b[0m\u001b[0mstart\u001b[0m\u001b[0;34m(\u001b[0m\u001b[0mself\u001b[0m\u001b[0;34m,\u001b[0m \u001b[0;34m**\u001b[0m\u001b[0mkwargs\u001b[0m\u001b[0;34m)\u001b[0m\u001b[0;34m\u001b[0m\u001b[0;34m\u001b[0m\u001b[0m\n\u001b[0m\u001b[1;32m    163\u001b[0m             \u001b[0;32melif\u001b[0m \u001b[0mself\u001b[0m\u001b[0;34m.\u001b[0m\u001b[0mmode\u001b[0m \u001b[0;32min\u001b[0m \u001b[0;34m(\u001b[0m\u001b[0;34m'a'\u001b[0m\u001b[0;34m,\u001b[0m \u001b[0;34m'w'\u001b[0m\u001b[0;34m)\u001b[0m\u001b[0;34m:\u001b[0m\u001b[0;34m\u001b[0m\u001b[0;34m\u001b[0m\u001b[0m\n\u001b[1;32m    164\u001b[0m                 \u001b[0mself\u001b[0m\u001b[0;34m.\u001b[0m\u001b[0msession\u001b[0m \u001b[0;34m=\u001b[0m \u001b[0mWritingSession\u001b[0m\u001b[0;34m(\u001b[0m\u001b[0;34m)\u001b[0m\u001b[0;34m\u001b[0m\u001b[0;34m\u001b[0m\u001b[0m\n",
      "\u001b[0;32mfiona/ogrext.pyx\u001b[0m in \u001b[0;36mfiona.ogrext.Session.start\u001b[0;34m()\u001b[0m\n",
      "\u001b[0;32mfiona/_shim.pyx\u001b[0m in \u001b[0;36mfiona._shim.gdal_open_vector\u001b[0;34m()\u001b[0m\n",
      "\u001b[0;31mDriverError\u001b[0m: '/Users/pjgomez/Fletcher/Boston_Site_Selection_UEP239/Data_Directory/vector/Census/tl_2010_25_zcta510/tl_2010_25_zcta510.shp' not recognized as a supported file format."
     ]
    }
   ],
   "source": [
    "#read in spatial data, project to NAD83/Massachusetts Mainland\n",
    "zcta = gpd.read_file(str(os.getcwd()) + r'/Data_Directory/vector/Census/tl_2010_25_zcta510/tl_2010_25_zcta510.shp').to_crs('epsg:26986')\n",
    "colleges= gpd.read_file(str(os.getcwd()) + r'/Data_Directory/vector/MassGIS/COLLEGES_PT/COLLEGES_PT.shp').to_crs('epsg:26986')\n",
    "MPO_bound = gpd.read_file(str(os.getcwd()) + r'/Data_Directory/vector/MassDOT/MPO_Boundaries/MPO_Boundaries.shp').to_crs('epsg:26986')"
   ]
  },
  {
   "cell_type": "code",
   "execution_count": 5,
   "id": "integral-alaska",
   "metadata": {},
   "outputs": [
    {
     "data": {
      "text/plain": [
       "'/Users/pjgomez/Fletcher/Boston_Site_Selection_UEP239'"
      ]
     },
     "execution_count": 5,
     "metadata": {},
     "output_type": "execute_result"
    }
   ],
   "source": []
  },
  {
   "cell_type": "code",
   "execution_count": null,
   "id": "together-radius",
   "metadata": {},
   "outputs": [],
   "source": [
    "print (\"Zip Code Tabulation Area\")\n",
    "zcta.plot()\n",
    "zcta.head(3)"
   ]
  },
  {
   "cell_type": "code",
   "execution_count": null,
   "id": "thorough-funeral",
   "metadata": {},
   "outputs": [],
   "source": [
    "#wrangle tabular data\n",
    "\n",
    "def get_column(path,col,rename_col):\n",
    "    '''\n",
    "    Isolates one column of interest from a csv and its corresponding GEO_ID,\n",
    "    changes name from code to descriptive name\n",
    "    '''\n",
    "    df = pd.read_csv(str(os.getcwd()) + path) #convert csv to datafame\n",
    "    \n",
    "    df= df.filter(items= ['NAME',col])#filter column of interest\n",
    "    \n",
    "    df = df.rename(columns={col: rename_col}) #change column name\n",
    "\n",
    "    df= df.drop(df.index[0]) #rid of second row\n",
    "    \n",
    "    return df\n"
   ]
  },
  {
   "cell_type": "code",
   "execution_count": null,
   "id": "magnetic-register",
   "metadata": {},
   "outputs": [],
   "source": [
    "\n",
    "#create dictionary in the following format: key= dataframe, value = list with two elements- code and descriptive name\n",
    "d= {r'/Data_Directory/tabular/ACSST5Y2019.S2501/ACSST5Y2019.S2501_data_with_overlays.csv':['S2501_C01_010E', 'hh_married'],\n",
    "    r'/Data_Directory/tabular/ACSST5Y2019.S1401/ACSST5Y2019.S1401_data_with_overlays_2021-05-03T211502.csv':['S1401_C03_003E','kids_in_ps'],\n",
    "    r'/Data_Directory/tabular/ACSST5Y2019.S2503/ACSST5Y2019.S2503_data_with_overlays.csv':['S2503_C04_011E','pct_making_100K_150k'],\n",
    "    r'/Data_Directory/tabular/ACSST5Y2019.S1501/ACSST5Y2019.S1501_data_with_overlays.csv':['S1501_C01_012E','over_25_with_bach_degree']}\n",
    "\n",
    "#iterate through dictionary, add new dataframes to empty list\n",
    "dfs= []\n",
    "for key in d:\n",
    "    print(key, '-> [', d[key][0], \"|\", d[key][1], \"]\")\n",
    "    new_df = get_column(key, d[key][0], d[key][1])\n",
    "    dfs.append(new_df)\n",
    "\n",
    "#merge list of dataframes \n",
    "merged = func.reduce(lambda left, right: pd.merge(left, right, on=['NAME'], how='outer'), dfs)\n",
    "\n",
    "#change numeric columns to numeric datatypes\n",
    "cols=[i for i in merged.columns if i != \"NAME\"]\n",
    "for c in cols:\n",
    "    merged[c]=pd.to_numeric(merged[c], errors='coerce')\n",
    "\n",
    "merged[['ZCTA','NAME']] = merged.NAME.str.split(expand=True)\n",
    "\n",
    "#drop extra column\n",
    "merged= merged.drop(['ZCTA'], axis = 1) \n"
   ]
  },
  {
   "cell_type": "code",
   "execution_count": null,
   "id": "identified-telescope",
   "metadata": {},
   "outputs": [],
   "source": [
    "#join zcta\n",
    "zcta_join = zcta.merge(merged, left_on='ZCTA5CE10', right_on = 'NAME')\n",
    "zcta_join.shape"
   ]
  },
  {
   "cell_type": "code",
   "execution_count": null,
   "id": "available-conditions",
   "metadata": {},
   "outputs": [],
   "source": [
    "zcta_join.plot(legend=True,column='pct_making_100K_150k', cmap = 'OrRd',legend_kwds={'label':'% of households making between $100-150K'}).set_title('Income')\n",
    "zcta_join.plot(legend=True,column='hh_married', cmap = 'OrRd',legend_kwds={'label':'# of households'}).set_title('Married Households')\n",
    "zcta_join.plot(legend=True,column='kids_in_ps', cmap = 'OrRd',legend_kwds={'label':'# of kids'}).set_title('Kids in Public Schools')\n",
    "zcta_join.plot(legend=True,column='over_25_with_bach_degree', cmap = 'OrRd',legend_kwds={'label':'% with a BA or more'}).set_title('Educated households')\n"
   ]
  },
  {
   "cell_type": "code",
   "execution_count": null,
   "id": "northern-context",
   "metadata": {},
   "outputs": [],
   "source": [
    "plt.hist(zcta_join['hh_married'], bins=20)\n",
    "plt.show() \n",
    "\n",
    "plt.hist(zcta_join['kids_in_ps'], bins=20)\n",
    "plt.show() \n",
    "\n",
    "plt.hist(zcta_join['pct_making_100K_150k'], bins=20)\n",
    "plt.show() \n",
    "\n",
    "plt.hist(zcta_join['over_25_with_bach_degree'], bins=20)\n",
    "\n",
    "plt.show() "
   ]
  },
  {
   "cell_type": "code",
   "execution_count": null,
   "id": "electrical-expansion",
   "metadata": {},
   "outputs": [],
   "source": [
    "#create dictionary of ZCTA's top half thresholds\n",
    "\n",
    "stats= zcta_join[cols].describe()[5:6]\n",
    "top50pct= stats.values\n",
    "\n",
    "top50pct_d= {}\n",
    "for i in range(len(cols)):\n",
    "    top50pct_d[cols[i]]= top50pct[0][i]\n",
    "\n",
    "top50pct_d"
   ]
  },
  {
   "cell_type": "code",
   "execution_count": null,
   "id": "challenging-somerset",
   "metadata": {},
   "outputs": [],
   "source": [
    "#select ZCTA's that meet the top half thresholds\n",
    "\n",
    "conditional= []\n",
    "\n",
    "for key in top50pct_d:\n",
    "    clause = str(key) + \" > \" + str(top50pct_d[key]) + \" &\"\n",
    "    conditional.append(clause)\n",
    "\n",
    "criteria= str(conditional).replace(',','').replace(\"'\",\"\").replace(\"[\",\"\")\n",
    "\n",
    "zcta_w_criteria= zcta_join.query(criteria[:-3])\n",
    "\n",
    "print('Total ZCTAs: {0}\\nZCTAs with demographic criteria: {1}'.format(len(zcta_join),len(zcta_w_criteria)))\n"
   ]
  },
  {
   "cell_type": "code",
   "execution_count": null,
   "id": "direct-joint",
   "metadata": {},
   "outputs": [],
   "source": [
    "zcta_w_criteria.plot()"
   ]
  },
  {
   "cell_type": "code",
   "execution_count": null,
   "id": "opposite-producer",
   "metadata": {},
   "outputs": [],
   "source": [
    "#select colleges of interest, i.e., none that are 4 year insitutions (high potential for rowdiness)\n",
    "\n",
    "colleges_no4yr= colleges[(colleges.NCES_TYPE != '4-year, Public') & (colleges.NCES_TYPE !='4-year, Private not-for-profit')]\n",
    "\n",
    "#add new column to ZCTA's showing TRUE if a college resides in that ZCTA\n",
    "inp, res = colleges_no4yr.sindex.query_bulk(zcta_w_criteria.geometry, predicate='intersects')\n",
    "zcta_w_criteria['college_intersect'] = np.isin(np.arange(0, len(zcta_w_criteria)), inp)\n",
    "zcta_w_criteria['GEOID10'].groupby(zcta_w_criteria['college_intersect']).agg(['nunique'])\n"
   ]
  },
  {
   "cell_type": "code",
   "execution_count": null,
   "id": "dimensional-graduate",
   "metadata": {},
   "outputs": [],
   "source": [
    "fig, ax = plt.subplots(figsize=(15, 15))\n",
    "\n",
    "zcta_w_criteria.plot(column='college_intersect',\n",
    "                categorical=True,\n",
    "                legend=True,\n",
    "                cmap= 'prism',\n",
    "                ax=ax)\n",
    "\n",
    "colleges_no4yr.plot(ax = ax,marker = '.',markersize=50, color = \"grey\", zorder= 2)\n",
    "ctx.add_basemap(ax, url=ctx.providers.Stamen.TonerLite)\n",
    "ax.set_axis_off()"
   ]
  },
  {
   "cell_type": "code",
   "execution_count": null,
   "id": "supreme-price",
   "metadata": {},
   "outputs": [],
   "source": [
    "zcta_w_criteria = zcta_w_criteria[zcta_w_criteria.college_intersect == False]\n",
    "\n",
    "#clip to Boston\n",
    "bos = MPO_bound[MPO_bound.MPO == 'Boston Region'].copy()\n",
    "\n",
    "zcta_clip = gpd.clip(zcta_w_criteria, bos)\n",
    "zcta_clip.plot()"
   ]
  },
  {
   "cell_type": "code",
   "execution_count": null,
   "id": "religious-prairie",
   "metadata": {},
   "outputs": [],
   "source": [
    "#read in EPA air quality data from 2021\n",
    "epa_raw = pd.read_csv(str(os.getcwd()) + r'/Data_Directory/tabular/EPA_PM25_2021.csv')\n",
    "\n",
    "#convert to geospatial data, project\n",
    "epa = gpd.GeoDataFrame(epa_raw, geometry=gpd.points_from_xy(epa_raw.SITE_LONGITUDE, epa_raw.SITE_LATITUDE))\n",
    "epa = epa.set_crs('epsg:4326')\n",
    "epa_prj= epa.to_crs('epsg:26986')\n",
    "\n",
    "#make readable column name\n",
    "epa_prj = epa_prj.rename(columns={'Daily Mean PM2.5 Concentration':'DMC_PM25'})\n",
    "epa_prj.plot()"
   ]
  },
  {
   "cell_type": "code",
   "execution_count": null,
   "id": "aware-schedule",
   "metadata": {},
   "outputs": [],
   "source": [
    "#the following cells perform an interpolation method  from Saul Montoya at Hatari Labs. See readme for info.\n",
    "\n",
    "#create numpy array of EPA data\n",
    "totalPointsArray = np.zeros([epa_prj.shape[0],3])\n",
    "\n",
    "#iteration over the geopandas dataframe\n",
    "for index, point in epa_prj.iterrows():\n",
    "    pointArray = np.array([point.geometry.coords.xy[0][0],point.geometry.coords.xy[1][0],point['DMC_PM25']])\n",
    "    totalPointsArray[index] = pointArray\n",
    "totalPointsArray\n"
   ]
  },
  {
   "cell_type": "code",
   "execution_count": null,
   "id": "active-annotation",
   "metadata": {},
   "outputs": [],
   "source": [
    "\n",
    "#triangulation function\n",
    "triFn = Triangulation(totalPointsArray[:,0],totalPointsArray[:,1])\n",
    "#linear triangule interpolator funtion\n",
    "linTriFn = LinearTriInterpolator(triFn,totalPointsArray[:,2])\n",
    "\n",
    "#define raster resolution in (m)\n",
    "rasterRes = 1000\n",
    "\n",
    "xCoords = np.arange(totalPointsArray[:,0].min(), totalPointsArray[:,0].max()+rasterRes, rasterRes)\n",
    "yCoords = np.arange(totalPointsArray[:,1].min(), totalPointsArray[:,1].max()+rasterRes, rasterRes)\n",
    "zCoords = np.zeros([yCoords.shape[0],xCoords.shape[0]])\n",
    "\n",
    "#loop among each cell in the raster extension\n",
    "for indexX, x in np.ndenumerate(xCoords):\n",
    "    for indexY, y in np.ndenumerate(yCoords):\n",
    "        tempZ = linTriFn(x,y)\n",
    "        #filtering masked values\n",
    "        if tempZ == tempZ:\n",
    "            zCoords[indexY,indexX]=tempZ\n",
    "        else:\n",
    "            zCoords[indexY,indexX]=np.NaN\n",
    "\n",
    "#preliminary representation of the interpolated values\n",
    "plt.imshow(zCoords)"
   ]
  },
  {
   "cell_type": "code",
   "execution_count": null,
   "id": "accepting-yukon",
   "metadata": {},
   "outputs": [],
   "source": [
    "from rasterio.transform import Affine\n",
    "transform = Affine.translation(xCoords[0] - rasterRes/2, yCoords[0] - rasterRes/2) * Affine.scale(rasterRes, rasterRes)\n",
    "transform\n"
   ]
  },
  {
   "cell_type": "code",
   "execution_count": null,
   "id": "filled-arthritis",
   "metadata": {},
   "outputs": [],
   "source": [
    "#definition, register and close of interpolated raster\n",
    "full_ras_name = str(os.getcwd()+r'/Data_Directory/raster/epainterp.tif')\n",
    "triInterpRaster = rasterio.open(full_ras_name),\n",
    "                                'w',\n",
    "                                driver='GTiff',\n",
    "                                height=zCoords.shape[0],\n",
    "                                width=zCoords.shape[1],\n",
    "                                count=1,\n",
    "                                dtype=zCoords.dtype,\n",
    "                                crs={'init': 'epsg:26986'},\n",
    "                                transform=transform)\n",
    "triInterpRaster.write(zCoords,1)\n",
    "triInterpRaster.close()"
   ]
  },
  {
   "cell_type": "code",
   "execution_count": null,
   "id": "moved-simple",
   "metadata": {},
   "outputs": [],
   "source": [
    "ras = rasterio.open(full_ras_name)\n",
    "\n",
    "fig, ax = plt.subplots(figsize=(15, 15))\n",
    "rasterio.plot.show(ras, ax=ax)\n",
    "zcta_clip.plot(ax=ax, facecolor='none', edgecolor='r').invert_yaxis()\n",
    "\n",
    "#end of interpolation"
   ]
  },
  {
   "cell_type": "code",
   "execution_count": null,
   "id": "entertaining-framework",
   "metadata": {},
   "outputs": [],
   "source": [
    "#change geometry to points to extract interpolated air quality \n",
    "zcta_points = zcta_w_criteria.copy()\n",
    "\n",
    "zcta_points['geometry'] = zcta_points['geometry'].centroid\n",
    "\n",
    "#extract air quality data from each point\n",
    "zcta_w_airq= point_query(zcta_points, full_ras_name, geojson_out=True)"
   ]
  },
  {
   "cell_type": "code",
   "execution_count": null,
   "id": "accompanied-stake",
   "metadata": {},
   "outputs": [],
   "source": [
    "#parse out geojson output to create a geodataframe\n",
    "for d in zcta_w_airq:\n",
    "    d['geometry'] = shape(d['geometry'])\n",
    "\n",
    "zcta_pts_final = gpd.GeoDataFrame(zcta_w_airq).set_geometry('geometry')\n",
    "\n",
    "#move air quality and GEOID values into new columns with nan values by parsing the 'properties' values from the JSON\n",
    "zcta_pts_final['airqual']= np.nan\n",
    "zcta_pts_final['GEOID']= np.nan\n",
    "\n",
    "\n",
    "counter = 0\n",
    "for i in zcta_pts_final.iterrows():\n",
    "    i = counter\n",
    "    zcta_pts_final['airqual'][i]=zcta_pts_final['properties'][i]['value']\n",
    "    zcta_pts_final['GEOID'][i]=zcta_pts_final['properties'][i]['GEOID10']\n",
    "    counter+=1\n",
    "\n",
    "#rid of nan values\n",
    "zcta_pts_final.dropna()\n",
    "\n",
    "#find lowest 25% values\n",
    "stats= zcta_pts_final['airqual'].describe()[4:5]\n",
    "zcta_pts_final= zcta_pts_final[zcta_pts_final.airqual < stats[-1]]\n",
    "\n",
    "#clean point layer\n",
    "zcta_pts_final['GEOID']= zcta_pts_final['GEOID'].astype(np.int64) #rid of '.0'\n",
    "zcta_pts_final['GEOID']= zcta_pts_final['GEOID'].astype(str) #convert to string\n",
    "zcta_pts_final= zcta_pts_final.drop(['properties','bbox'], axis = 1) #rid extra columns\n",
    "\n",
    "as_df= pd.DataFrame(zcta_pts_final)\n",
    "\n",
    "#join back to zcta polygons, check resulting size of the new dataframe\n",
    "zcta_merg = as_df.merge(zcta_clip, how= 'inner', left_on='GEOID', right_on = 'GEOID10')\n",
    "zcta_final= zcta_merg.set_geometry('geometry_y')\n",
    "zcta_final.shape"
   ]
  },
  {
   "cell_type": "code",
   "execution_count": null,
   "id": "collective-drama",
   "metadata": {},
   "outputs": [],
   "source": [
    "#clean slivers from clip output\n",
    "'''\n",
    "WARNING: this is not reproducable.\n",
    "9000 was chosen here because they were extreme outliers in the area colum\n",
    "'''\n",
    "zcta_final['area']=zcta_final.area\n",
    "zcta_final= zcta_final[zcta_final.area > 9000]\n",
    "zcta_final.shape\n",
    "zcta_final"
   ]
  },
  {
   "cell_type": "code",
   "execution_count": null,
   "id": "expensive-interpretation",
   "metadata": {},
   "outputs": [],
   "source": [
    "#plot ideal ZCTAs on map\n",
    "fig, ax = plt.subplots(figsize=(15, 15))\n",
    "zcta_final.plot(ax=ax, facecolor='none', edgecolor='r', linewidth=5)\n",
    "ctx.add_basemap(ax, url=ctx.providers.OpenStreetMap.Mapnik)\n",
    "ax.set_axis_off()"
   ]
  }
 ],
 "metadata": {
  "kernelspec": {
   "display_name": "Python 3",
   "language": "python",
   "name": "python3"
  },
  "language_info": {
   "codemirror_mode": {
    "name": "ipython",
    "version": 3
   },
   "file_extension": ".py",
   "mimetype": "text/x-python",
   "name": "python",
   "nbconvert_exporter": "python",
   "pygments_lexer": "ipython3",
   "version": "3.8.6"
  }
 },
 "nbformat": 4,
 "nbformat_minor": 5
}
